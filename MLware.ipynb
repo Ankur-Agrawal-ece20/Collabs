{
  "nbformat": 4,
  "nbformat_minor": 0,
  "metadata": {
    "colab": {
      "name": "MLware.ipynb",
      "provenance": [],
      "authorship_tag": "ABX9TyNi7p0XRDh3TrlVCbhYb7XN",
      "include_colab_link": true
    },
    "kernelspec": {
      "name": "python3",
      "display_name": "Python 3"
    },
    "language_info": {
      "name": "python"
    }
  },
  "cells": [
    {
      "cell_type": "markdown",
      "metadata": {
        "id": "view-in-github",
        "colab_type": "text"
      },
      "source": [
        "<a href=\"https://colab.research.google.com/github/Ankur-Agrawal-ece20/Collabs/blob/main/MLware.ipynb\" target=\"_parent\"><img src=\"https://colab.research.google.com/assets/colab-badge.svg\" alt=\"Open In Colab\"/></a>"
      ]
    },
    {
      "cell_type": "code",
      "execution_count": null,
      "metadata": {
        "id": "5F3td7NDeaoo"
      },
      "outputs": [],
      "source": [
        ""
      ]
    }
  ]
}